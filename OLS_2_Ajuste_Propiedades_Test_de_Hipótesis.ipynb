{
  "nbformat": 4,
  "nbformat_minor": 0,
  "metadata": {
    "colab": {
      "name": "OLS 2 Ajuste Propiedades Test de Hipótesis.ipynb",
      "provenance": [],
      "authorship_tag": "ABX9TyPcZjUo8WY1gD6KlOuJKMGG",
      "include_colab_link": true
    },
    "kernelspec": {
      "name": "python3",
      "display_name": "Python 3"
    }
  },
  "cells": [
    {
      "cell_type": "markdown",
      "metadata": {
        "id": "view-in-github",
        "colab_type": "text"
      },
      "source": [
        "<a href=\"https://colab.research.google.com/github/rpasquini/herramientas-econometricas/blob/main/OLS_2_Ajuste_Propiedades_Test_de_Hip%C3%B3tesis.ipynb\" target=\"_parent\"><img src=\"https://colab.research.google.com/assets/colab-badge.svg\" alt=\"Open In Colab\"/></a>"
      ]
    },
    {
      "cell_type": "code",
      "metadata": {
        "id": "NNmORTIw0Z_t"
      },
      "source": [
        "import statsmodels.api as sm\n",
        "import matplotlib.pyplot as plt\n",
        "import numpy as np\n",
        "import pandas as pd"
      ],
      "execution_count": 42,
      "outputs": []
    },
    {
      "cell_type": "code",
      "metadata": {
        "id": "OTliy8gp0cuf"
      },
      "source": [
        "df=pd.read_csv('https://github.com/rpasquini/herramientas-econometricas/blob/main/datos/eah2016_individual.csv?raw=true')"
      ],
      "execution_count": 43,
      "outputs": []
    },
    {
      "cell_type": "code",
      "metadata": {
        "id": "ymxAvnv7vXrV",
        "outputId": "9761564e-fd58-474c-a243-9ab1790b2c04",
        "colab": {
          "base_uri": "https://localhost:8080/",
          "height": 283
        }
      },
      "source": [
        "df.aesc.hist()"
      ],
      "execution_count": 44,
      "outputs": [
        {
          "output_type": "execute_result",
          "data": {
            "text/plain": [
              "<matplotlib.axes._subplots.AxesSubplot at 0x7f0d7458a6d8>"
            ]
          },
          "metadata": {
            "tags": []
          },
          "execution_count": 44
        },
        {
          "output_type": "display_data",
          "data": {
            "image/png": "[encoded data removed]",
            "text/plain": [
              "<Figure size 432x288 with 1 Axes>"
            ]
          },
          "metadata": {
            "tags": [],
            "needs_background": "light"
          }
        }
      ]
    },
    {
      "cell_type": "code",
      "metadata": {
        "id": "qVD7lheoveIN"
      },
      "source": [
        "df=df.loc[df.aesc<20]"
      ],
      "execution_count": 45,
      "outputs": []
    },
    {
      "cell_type": "code",
      "metadata": {
        "id": "4ZcVS617w1kt"
      },
      "source": [
        "df=df[['aesc','logingreso']].dropna()"
      ],
      "execution_count": 46,
      "outputs": []
    },
    {
      "cell_type": "code",
      "metadata": {
        "id": "X2MRv2sjvlKK",
        "outputId": "77789eed-30cf-4ca1-d329-80cc67099bbf",
        "colab": {
          "base_uri": "https://localhost:8080/",
          "height": 283
        }
      },
      "source": [
        "df.aesc.hist()"
      ],
      "execution_count": 47,
      "outputs": [
        {
          "output_type": "execute_result",
          "data": {
            "text/plain": [
              "<matplotlib.axes._subplots.AxesSubplot at 0x7f0d744a35c0>"
            ]
          },
          "metadata": {
            "tags": []
          },
          "execution_count": 47
        },
        {
          "output_type": "display_data",
          "data": {
            "image/png": "[encoded data removed]",
            "text/plain": [
              "<Figure size 432x288 with 1 Axes>"
            ]
          },
          "metadata": {
            "tags": [],
            "needs_background": "light"
          }
        }
      ]
    },
    {
      "cell_type": "code",
      "metadata": {
        "id": "oqCjibXA0viR"
      },
      "source": [
        "def regress(lista, data):\n",
        "  \"\"\" \n",
        "  Funcion que realiza la regresion OLS\n",
        "  La primera variable de la lista es la dependiente, el resto son las explicativas\n",
        "  data es la base de datos\n",
        "  \"\"\"\n",
        "  datos=data[lista]\n",
        "  # el metodo dropna() me permite eliminar las filas que tienen algun valor missing\n",
        "  datos=datos.dropna()\n",
        "  Y=datos[lista[0]]\n",
        "  X=datos[lista[1:]]\n",
        "  X=sm.add_constant(X)\n",
        "  modelo=sm.OLS(Y,X)\n",
        "  resultados=modelo.fit()\n",
        "  print(resultados.summary())\n",
        "  return resultados"
      ],
      "execution_count": 48,
      "outputs": []
    },
    {
      "cell_type": "code",
      "metadata": {
        "id": "Sg_K-vCB1F_-",
        "outputId": "36b095dc-b978-435d-dcbf-ca0027fdcaeb",
        "colab": {
          "base_uri": "https://localhost:8080/",
          "height": 457
        }
      },
      "source": [
        "resultados=regress(['logingreso','aesc'],data=df)"
      ],
      "execution_count": 49,
      "outputs": [
        {
          "output_type": "stream",
          "text": [
            "                            OLS Regression Results                            \n",
            "==============================================================================\n",
            "Dep. Variable:             logingreso   R-squared:                       0.199\n",
            "Model:                            OLS   Adj. R-squared:                  0.199\n",
            "Method:                 Least Squares   F-statistic:                     2507.\n",
            "Date:                Wed, 14 Oct 2020   Prob (F-statistic):               0.00\n",
            "Time:                        01:44:52   Log-Likelihood:                -11674.\n",
            "No. Observations:               10082   AIC:                         2.335e+04\n",
            "Df Residuals:                   10080   BIC:                         2.337e+04\n",
            "Df Model:                           1                                         \n",
            "Covariance Type:            nonrobust                                         \n",
            "==============================================================================\n",
            "                 coef    std err          t      P>|t|      [0.025      0.975]\n",
            "------------------------------------------------------------------------------\n",
            "const          8.0118      0.027    301.990      0.000       7.960       8.064\n",
            "aesc           0.1011      0.002     50.075      0.000       0.097       0.105\n",
            "==============================================================================\n",
            "Omnibus:                     1714.578   Durbin-Watson:                   1.798\n",
            "Prob(Omnibus):                  0.000   Jarque-Bera (JB):             4442.590\n",
            "Skew:                          -0.935   Prob(JB):                         0.00\n",
            "Kurtosis:                       5.660   Cond. No.                         45.7\n",
            "==============================================================================\n",
            "\n",
            "Warnings:\n",
            "[1] Standard Errors assume that the covariance matrix of the errors is correctly specified.\n"
          ],
          "name": "stdout"
        }
      ]
    },
    {
      "cell_type": "markdown",
      "metadata": {
        "id": "S9dlbmRICHfI"
      },
      "source": [
        "# Predicción"
      ]
    },
    {
      "cell_type": "markdown",
      "metadata": {
        "id": "ONHB57OpCWiR"
      },
      "source": [
        "$\\hat{Y}=\\hat{\\beta_0}+\\hat{\\beta_1}*X$"
      ]
    },
    {
      "cell_type": "code",
      "metadata": {
        "id": "la4qtvGUCNgJ",
        "outputId": "04e3e638-f078-4c48-d87a-dffd9c39b4ac",
        "colab": {
          "base_uri": "https://localhost:8080/",
          "height": 35
        }
      },
      "source": [
        "# 10 años de escolaridad\n",
        "8.0118+0.1011*10"
      ],
      "execution_count": 50,
      "outputs": [
        {
          "output_type": "execute_result",
          "data": {
            "text/plain": [
              "9.022799999999998"
            ]
          },
          "metadata": {
            "tags": []
          },
          "execution_count": 50
        }
      ]
    },
    {
      "cell_type": "code",
      "metadata": {
        "id": "G60RKQOvCrW5",
        "outputId": "b8b77170-b96e-4239-d59f-3a4d5a649522",
        "colab": {
          "base_uri": "https://localhost:8080/",
          "height": 35
        }
      },
      "source": [
        "# Departamento de 2 dormitorios\n",
        "resultados.params['const']+resultados.params['aesc']*10"
      ],
      "execution_count": 51,
      "outputs": [
        {
          "output_type": "execute_result",
          "data": {
            "text/plain": [
              "9.022579730303121"
            ]
          },
          "metadata": {
            "tags": []
          },
          "execution_count": 51
        }
      ]
    },
    {
      "cell_type": "code",
      "metadata": {
        "id": "8PzA4iHtDLSw",
        "outputId": "38049a52-e3d6-4041-ef3f-73a4ed0e3fc1",
        "colab": {
          "base_uri": "https://localhost:8080/",
          "height": 228
        }
      },
      "source": [
        "# Predicciones para observaciones en la data\n",
        "resultados.params['const']+resultados.params['aesc']*df.aesc"
      ],
      "execution_count": 54,
      "outputs": [
        {
          "output_type": "execute_result",
          "data": {
            "text/plain": [
              "0        9.224745\n",
              "1        9.224745\n",
              "2        9.224745\n",
              "3        9.224745\n",
              "4        9.224745\n",
              "           ...   \n",
              "14507    8.820414\n",
              "14508    9.527993\n",
              "14509    8.416084\n",
              "14510    9.224745\n",
              "14511    9.123662\n",
              "Name: aesc, Length: 10082, dtype: float64"
            ]
          },
          "metadata": {
            "tags": []
          },
          "execution_count": 54
        }
      ]
    },
    {
      "cell_type": "code",
      "metadata": {
        "id": "NWU5mDsvDhBf",
        "outputId": "90b8ddbe-cea7-43db-ebad-4223a451f657",
        "colab": {
          "base_uri": "https://localhost:8080/",
          "height": 52
        }
      },
      "source": [
        "resultados.predict()"
      ],
      "execution_count": 55,
      "outputs": [
        {
          "output_type": "execute_result",
          "data": {
            "text/plain": [
              "array([9.22474501, 9.22474501, 9.22474501, ..., 8.41608388, 9.22474501,\n",
              "       9.12366237])"
            ]
          },
          "metadata": {
            "tags": []
          },
          "execution_count": 55
        }
      ]
    },
    {
      "cell_type": "code",
      "metadata": {
        "id": "Cw17S2gYDrhp",
        "outputId": "74d4d38e-183a-490f-b210-ceec1dac5445",
        "colab": {
          "base_uri": "https://localhost:8080/",
          "height": 283
        }
      },
      "source": [
        "# Ploteamos prediccion con matplolib\n",
        "plt.scatter(df.aesc, resultados.predict())"
      ],
      "execution_count": 56,
      "outputs": [
        {
          "output_type": "execute_result",
          "data": {
            "text/plain": [
              "<matplotlib.collections.PathCollection at 0x7f0d73fac630>"
            ]
          },
          "metadata": {
            "tags": []
          },
          "execution_count": 56
        },
        {
          "output_type": "display_data",
          "data": {
            "image/png": "[encoded data removed]",
            "text/plain": [
              "<Figure size 432x288 with 1 Axes>"
            ]
          },
          "metadata": {
            "tags": [],
            "needs_background": "light"
          }
        }
      ]
    },
    {
      "cell_type": "code",
      "metadata": {
        "id": "MIFvCC4syPnZ",
        "outputId": "badcf3f5-b187-43a1-dcfa-6e80aebf5ebe",
        "colab": {
          "base_uri": "https://localhost:8080/",
          "height": 283
        }
      },
      "source": [
        "plt.scatter(df.aesc, df.logingreso, c='green')\n",
        "plt.plot(df.aesc, resultados.predict(), c= \"red\", marker='.', linestyle=':')\n"
      ],
      "execution_count": 64,
      "outputs": [
        {
          "output_type": "execute_result",
          "data": {
            "text/plain": [
              "[<matplotlib.lines.Line2D at 0x7f0d73d28080>]"
            ]
          },
          "metadata": {
            "tags": []
          },
          "execution_count": 64
        },
        {
          "output_type": "display_data",
          "data": {
            "image/png": "[encoded data removed]",
            "text/plain": [
              "<Figure size 432x288 with 1 Axes>"
            ]
          },
          "metadata": {
            "tags": [],
            "needs_background": "light"
          }
        }
      ]
    },
    {
      "cell_type": "markdown",
      "metadata": {
        "id": "QZRn9Kqu4Kyf"
      },
      "source": [
        "# Error Cuadrático Medio\n"
      ]
    },
    {
      "cell_type": "code",
      "metadata": {
        "id": "kF_enYAB1f8Z",
        "outputId": "c4b79632-db45-4a42-e28b-bfd193bcb895",
        "colab": {
          "base_uri": "https://localhost:8080/",
          "height": 35
        }
      },
      "source": [
        "resultados.mse_resid"
      ],
      "execution_count": 65,
      "outputs": [
        {
          "output_type": "execute_result",
          "data": {
            "text/plain": [
              "0.5933965875175048"
            ]
          },
          "metadata": {
            "tags": []
          },
          "execution_count": 65
        }
      ]
    },
    {
      "cell_type": "markdown",
      "metadata": {
        "id": "hl56Qpf43A49"
      },
      "source": [
        "Error Cuadrático Medio (MSE) a mano\n",
        "\n",
        "$MSE=\\sqrt{\\frac{\\sum^n_{i=1} e_i^2}{n-2}}$ donde\n",
        "\n",
        "$e=y-\\hat{y}$\n",
        "\n"
      ]
    },
    {
      "cell_type": "code",
      "metadata": {
        "id": "uQngrpST12tx",
        "outputId": "f7718822-8613-4f24-d444-db386bafe034",
        "colab": {
          "base_uri": "https://localhost:8080/",
          "height": 35
        }
      },
      "source": [
        "ypred = resultados.predict()\n",
        "residuos=df.logingreso-ypred\n",
        "rss=np.sum(residuos**2)\n",
        "MSE=(rss/(resultados.nobs-2))\n",
        "MSE"
      ],
      "execution_count": 66,
      "outputs": [
        {
          "output_type": "execute_result",
          "data": {
            "text/plain": [
              "0.5933965875175049"
            ]
          },
          "metadata": {
            "tags": []
          },
          "execution_count": 66
        }
      ]
    },
    {
      "cell_type": "code",
      "metadata": {
        "id": "MLzHND1dJzv8",
        "outputId": "39a6d91c-99d5-411c-b13e-a7e9f0fe6935",
        "colab": {
          "base_uri": "https://localhost:8080/",
          "height": 35
        }
      },
      "source": [
        "MSE**0.5"
      ],
      "execution_count": 67,
      "outputs": [
        {
          "output_type": "execute_result",
          "data": {
            "text/plain": [
              "0.7703223919356784"
            ]
          },
          "metadata": {
            "tags": []
          },
          "execution_count": 67
        }
      ]
    },
    {
      "cell_type": "code",
      "metadata": {
        "id": "7327gR3F4X0e",
        "outputId": "d27373d6-e7cb-435d-82ce-4caae2182970",
        "colab": {
          "base_uri": "https://localhost:8080/",
          "height": 175
        }
      },
      "source": [
        "residuos2=residuos*residuos\n",
        "residuos2.describe()"
      ],
      "execution_count": 68,
      "outputs": [
        {
          "output_type": "execute_result",
          "data": {
            "text/plain": [
              "count    1.008200e+04\n",
              "mean     5.932789e-01\n",
              "std      1.280786e+00\n",
              "min      6.906205e-10\n",
              "25%      3.775540e-02\n",
              "50%      1.961224e-01\n",
              "75%      5.991571e-01\n",
              "max      3.779512e+01\n",
              "Name: logingreso, dtype: float64"
            ]
          },
          "metadata": {
            "tags": []
          },
          "execution_count": 68
        }
      ]
    },
    {
      "cell_type": "code",
      "metadata": {
        "id": "BDcE_OXPE3gM",
        "outputId": "ee85cabb-6cf3-41a9-c571-6ab07d68c69f",
        "colab": {
          "base_uri": "https://localhost:8080/",
          "height": 175
        }
      },
      "source": [
        "residuos.describe()"
      ],
      "execution_count": 69,
      "outputs": [
        {
          "output_type": "execute_result",
          "data": {
            "text/plain": [
              "count    1.008200e+04\n",
              "mean    -2.794740e-15\n",
              "std      7.702842e-01\n",
              "min     -6.147774e+00\n",
              "25%     -3.715081e-01\n",
              "50%      8.090569e-02\n",
              "75%      4.910087e-01\n",
              "max      2.984093e+00\n",
              "Name: logingreso, dtype: float64"
            ]
          },
          "metadata": {
            "tags": []
          },
          "execution_count": 69
        }
      ]
    },
    {
      "cell_type": "markdown",
      "metadata": {
        "id": "48PRmVlhJxBC"
      },
      "source": [
        "# Propiedades de los estimadores cuando los errores son normales"
      ]
    },
    {
      "cell_type": "markdown",
      "metadata": {
        "id": "7FAwtdmpKN-U"
      },
      "source": [
        "¿Cuál es el beta que espero obtener si los errores de nuestro fueran errores normales?\n",
        "Simulamos las estimaciones de los coeficientes beta en presencia de errores normales  \n",
        "\n"
      ]
    },
    {
      "cell_type": "code",
      "metadata": {
        "id": "JcwYaNioLTFZ",
        "outputId": "e8be8451-dcfd-43f3-fd3d-360fdd6e8a50",
        "colab": {
          "base_uri": "https://localhost:8080/",
          "height": 371
        }
      },
      "source": [
        "e_simu= np.random.normal(0,0.6,10082)\n",
        "plt.hist(e_simu)\n"
      ],
      "execution_count": 71,
      "outputs": [
        {
          "output_type": "execute_result",
          "data": {
            "text/plain": [
              "(array([  13.,  114.,  548., 1665., 2952., 2776., 1489.,  433.,   83.,\n",
              "           9.]),\n",
              " array([-2.30430242, -1.8379841 , -1.37166577, -0.90534745, -0.43902912,\n",
              "         0.0272892 ,  0.49360753,  0.95992585,  1.42624418,  1.8925625 ,\n",
              "         2.35888083]),\n",
              " <a list of 10 Patch objects>)"
            ]
          },
          "metadata": {
            "tags": []
          },
          "execution_count": 71
        },
        {
          "output_type": "display_data",
          "data": {
            "image/png": "[encoded data removed]",
            "text/plain": [
              "<Figure size 432x288 with 1 Axes>"
            ]
          },
          "metadata": {
            "tags": [],
            "needs_background": "light"
          }
        }
      ]
    },
    {
      "cell_type": "code",
      "metadata": {
        "id": "xuqh7kr2FGNr",
        "outputId": "31111f50-5afb-421b-bd45-9dca015bea40",
        "colab": {
          "base_uri": "https://localhost:8080/",
          "height": 35
        }
      },
      "source": [
        "def simu():\n",
        "  e_simu = np.random.normal(0,0.6,10082)\n",
        "  X=df.aesc\n",
        "  y_simu=resultados.params['const']+resultados.params['aesc']*X+e_simu\n",
        "  model_simu=sm.OLS(y_simu,X)\n",
        "  resultados_simu=model_simu.fit()\n",
        "  #print(resultados_simu.summary())\n",
        "  #print(resultados_simu.params['bedrooms'])\n",
        "  return resultados_simu.params['aesc']\n",
        "simu()"
      ],
      "execution_count": 74,
      "outputs": [
        {
          "output_type": "execute_result",
          "data": {
            "text/plain": [
              "0.6842737990535448"
            ]
          },
          "metadata": {
            "tags": []
          },
          "execution_count": 74
        }
      ]
    },
    {
      "cell_type": "code",
      "metadata": {
        "id": "xc0V-YE2G5xO",
        "outputId": "c84839fd-79eb-4cd5-9772-9892d81895b3",
        "colab": {
          "base_uri": "https://localhost:8080/",
          "height": 55
        }
      },
      "source": [
        "betacoefs=[]\n",
        "for i in range(0,2000):\n",
        "  beta=simu()\n",
        "  betacoefs.append(beta)\n",
        "print(betacoefs)\n"
      ],
      "execution_count": 77,
      "outputs": [
        {
          "output_type": "stream",
          "text": [
            "[0.6849538295429911, 0.6849542761011616, 0.684587643956821, 0.6842496605521063, 0.6849553246616865, 0.6851793944189435, 0.6856831777514071, 0.6853357484477215, 0.6857377209696676, 0.6842867202722942, 0.6846148530678069, 0.6835304735232612, 0.6848855866112504, 0.6842381988172458, 0.6845047054530193, 0.6847775617884495, 0.6844855715955959, 0.6845371459935599, 0.6835562773568795, 0.6857333989887885, 0.6840631186824656, 0.6842157444315944, 0.6842276674371784, 0.6847190446867515, 0.6842844041235451, 0.6850945794601102, 0.6844073412055266, 0.6845138174712561, 0.6845060144005156, 0.6847034883101126, 0.6842196590315313, 0.6843390090613474, 0.6848720444866598, 0.6845703182025764, 0.6849862163934928, 0.6853277697471581, 0.6836824983659295, 0.6844496960773738, 0.6841821474090068, 0.6851359558478387, 0.6850899633663501, 0.684451470635286, 0.684448359196651, 0.6841758127111712, 0.6843735025067019, 0.685287769042044, 0.6846995009456598, 0.6849025465803364, 0.6846856882764969, 0.6846084351741496, 0.6844643015248443, 0.68487372304135, 0.6848954625801983, 0.6842654012923393, 0.6847940052574775, 0.6846086492597828, 0.6853624674476058, 0.6850902085827353, 0.6842965345304572, 0.6851564199952206, 0.6846756844229933, 0.6848943676577426, 0.6849463391699109, 0.6845226321399103, 0.6843012860745863, 0.6841938264167411, 0.6843447158503835, 0.6846228636573506, 0.6843948802567921, 0.6844795589469728, 0.6851172956908952, 0.684935320770026, 0.6845933123725239, 0.684151741113279, 0.6841127996968819, 0.6843980055632812, 0.6847143513763089, 0.6841620551610881, 0.684370385126301, 0.6844751260864634, 0.6850961531480537, 0.6844710088033101, 0.6844887705383889, 0.6845984606526572, 0.6836299391282035, 0.6846742844349674, 0.6850026188767973, 0.6846926094003865, 0.6845430656685869, 0.6849421781320115, 0.6847507031361182, 0.6846740506064007, 0.6853134332026618, 0.6852298455809587, 0.684748114058952, 0.6854735679902836, 0.6852314627075529, 0.6851358173391356, 0.6848248934708416, 0.6852475240466759, 0.6843080329173445, 0.6847098944786781, 0.6841684910542987, 0.6848724612706593, 0.6843945262319544, 0.6851859569988746, 0.6847858541814856, 0.6852700296530011, 0.6846976323941454, 0.6847792145075665, 0.6850082056696924, 0.6843472626264149, 0.6850823738993821, 0.6843946357792994, 0.6843327300626456, 0.6845640063578643, 0.6844296968106622, 0.6854049459885573, 0.6852125732941423, 0.6847531558883015, 0.684110654515236, 0.6851883611642273, 0.6859158530681029, 0.6845260170019343, 0.6840233000929216, 0.6852770621469625, 0.6849406776408008, 0.6846661790271967, 0.6849278267552754, 0.6845993498690046, 0.6838709327579258, 0.6846743488765652, 0.6838919391023967, 0.6845580024925896, 0.6849290732261653, 0.6851347931939946, 0.6851260729251343, 0.6847213147448314, 0.6850561878655327, 0.6840401457442191, 0.6851152097779788, 0.6843753533517145, 0.6848505834934837, 0.6850625498947467, 0.6846844322623806, 0.684360717507277, 0.6841159186551673, 0.6846252415192635, 0.6850564199748566, 0.6848708341678715, 0.6843226336571435, 0.6835240094836562, 0.684555569221371, 0.6847566941534986, 0.6841860189930086, 0.6844841550622385, 0.6851722115989223, 0.6851701366663885, 0.6841754774938067, 0.6837060355993638, 0.6846494710769611, 0.6841471604919166, 0.6844959194590339, 0.6850516082053748, 0.6847033094576775, 0.6849768519175882, 0.6837163353190193, 0.6845619724738922, 0.6845923813430383, 0.6847581909417599, 0.6844065382716916, 0.6845409420388344, 0.6846972035345564, 0.6844374811249311, 0.6843744870428674, 0.685114963037952, 0.6848676382960763, 0.6845012287172846, 0.6843077678366551, 0.6848050424025678, 0.6847213437304929, 0.6844662539124768, 0.684900031863016, 0.6845615901858829, 0.6850008127939964, 0.6846128835930503, 0.6842678562922508, 0.6849427482118855, 0.6840249077314728, 0.6851633596042682, 0.6845380139944369, 0.6850298108712218, 0.6844538593122237, 0.6843438302871839, 0.6844692316563441, 0.6849438859053689, 0.6852366695107692, 0.6849178916294056, 0.6845717381320366, 0.6840042865477469, 0.6851821153294643, 0.6848238940353821, 0.6842701768925137, 0.6848123581021284, 0.6844403852836133, 0.6843013688506323, 0.6845659706361151, 0.685365937587385, 0.6847292916100665, 0.6846505332297554, 0.684303375571478, 0.6850503641930643, 0.6856087391713952, 0.6845377658474734, 0.6845955905809209, 0.6850236984191324, 0.6844399196845499, 0.6843415422546837, 0.684501766094193, 0.6839643497665571, 0.6847414955855338, 0.684332815263624, 0.6847566675640522, 0.6845309890215472, 0.685114727647502, 0.6846814719609178, 0.6843155123354379, 0.6850902589431682, 0.6840243208552119, 0.6847241693292343, 0.6847703317788888, 0.6853708078408081, 0.6843460653316664, 0.6842256373341109, 0.6842662672257664, 0.6850420702482802, 0.6844371203849456, 0.6842896580284571, 0.6846179295814553, 0.6846633257935801, 0.6847820084083269, 0.6839317615187565, 0.6844400950513543, 0.6851902800993522, 0.6850537052836665, 0.6852196221380964, 0.6842936490480285, 0.6846964046287869, 0.6834593037520145, 0.6858478458502728, 0.6851664212295392, 0.6843515510359536, 0.6852961771220006, 0.6847878222458774, 0.6844425946634953, 0.6845466526066006, 0.684465340899691, 0.6842288555419513, 0.6847177326344216, 0.6839539971517493, 0.6844677682275679, 0.6842385313447905, 0.685097775184869, 0.6845505008908774, 0.6850406839071193, 0.6843333237663285, 0.6845534747840811, 0.6852060911913995, 0.6848058448143327, 0.6840450045591623, 0.6847757894762956, 0.684448380691304, 0.6844294506993687, 0.6847343479734134, 0.6850088562727332, 0.6841324689947947, 0.684209337717239, 0.6850023890072325, 0.6847703850256871, 0.684729729438667, 0.6851411856766357, 0.6848470497459553, 0.6848357543820449, 0.6849892226608968, 0.6842868996617052, 0.6842218208617867, 0.6837529783737135, 0.6845661931433371, 0.6850490357166327, 0.6847236372116983, 0.6846741959102505, 0.6840920629627707, 0.684643738388069, 0.6856606511739709, 0.685080294872353, 0.6848948463777442, 0.6848835595053968, 0.6840188326974892, 0.6850255406571913, 0.6845190336293578, 0.68480903645412, 0.6858440547666147, 0.6848445331552442, 0.685294834251, 0.6851547844068084, 0.6847284888198385, 0.6846216320703199, 0.6852602983598428, 0.6844237976692461, 0.6854998591589824, 0.684327324077722, 0.6847005219365567, 0.684743005574225, 0.6844396890582144, 0.6845424000656808, 0.6849187728074486, 0.6843528988572813, 0.6848756164589193, 0.6845403135630906, 0.6843109198138413, 0.6842745651677429, 0.6846134215640891, 0.683986861497882, 0.6848342480999371, 0.6848389813838461, 0.6851163226806368, 0.6849465404087688, 0.684934908907572, 0.6837708153152366, 0.6844209684196338, 0.6845500232422026, 0.6847332307336358, 0.6839943909371741, 0.6852608480409046, 0.6847559359577576, 0.6842037706913389, 0.6845650896994704, 0.6846217338206295, 0.6845131453853542, 0.6845433049436118, 0.6852865454272834, 0.6843776143738782, 0.6840209954125134, 0.6847275682323625, 0.6844791749469785, 0.6846513312294689, 0.684363250238648, 0.6850779254437145, 0.6845854664574584, 0.6846708071928399, 0.6845411300324014, 0.6846577009106676, 0.6838637818164783, 0.6854638653456675, 0.6846138291293971, 0.6838702224897788, 0.6835281949453975, 0.6851124279345159, 0.6839269924486833, 0.6845937698354545, 0.683665137992111, 0.6848880673371307, 0.684452211182823, 0.6843241540591587, 0.6850137549268501, 0.6846346559435048, 0.6851162302223331, 0.6853916975922576, 0.685209000340013, 0.684523907229502, 0.6844507922561319, 0.6845304067633795, 0.685439328253993, 0.6843027417781764, 0.6842643586192254, 0.6841988983869607, 0.684326591576488, 0.6860297847522787, 0.6839636386409963, 0.6841608140361182, 0.6845002214206215, 0.6855410525475429, 0.6846297743734073, 0.6846855310355944, 0.6849094997212719, 0.6848732672488399, 0.6851130569746222, 0.6849522339472638, 0.6838457495805148, 0.6843984792162947, 0.6840252515117509, 0.6845925640318389, 0.6848099261777472, 0.6851960503655579, 0.6847218142576513, 0.6843625046820965, 0.6838979997820887, 0.6846684394866882, 0.6838670507767548, 0.6849172525351162, 0.6847768457357741, 0.68473174400776, 0.6842781106005068, 0.6856984346612904, 0.6846820822791839, 0.6846036008567039, 0.6845394906459837, 0.6839995391716351, 0.6847505360644215, 0.6849293389523743, 0.6846659313739821, 0.6841446394882345, 0.6842521893742901, 0.6843429778948321, 0.684512460796649, 0.6845376541352459, 0.6845897615493637, 0.6837297626947203, 0.684828682760263, 0.6849662148631093, 0.6853490274884546, 0.6844184272736281, 0.6847359738107008, 0.6843641729713752, 0.6849240398445036, 0.6849289137371614, 0.6845866910711877, 0.6844858455365899, 0.6847393665031294, 0.6854845802191268, 0.6854498215319043, 0.68442157728713, 0.6850477024952801, 0.685195849311754, 0.6852091291204041, 0.6847929231890737, 0.6845274577566727, 0.6851016859710605, 0.6843516519778245, 0.6844001842820988, 0.6846594318901023, 0.6844406489119392, 0.6848524250488901, 0.6843583263410142, 0.6844362301652244, 0.6840812785864169, 0.6840942456016516, 0.6845042019064917, 0.6849796762542151, 0.6850406095593653, 0.6849821141340825, 0.685397872262909, 0.6847097503776659, 0.6845687128351139, 0.6845589874807617, 0.6841745966627586, 0.6848608541232857, 0.6845698914284817, 0.6836645415409749, 0.6849736203769125, 0.6851539957498503, 0.6851108490061916, 0.6852840279607111, 0.6846803863443625, 0.6851656092759073, 0.683991310446661, 0.6840848502226407, 0.6849004569851365, 0.6847173474666586, 0.6852759823277548, 0.6845408424477374, 0.6846791840893236, 0.6850365445826172, 0.684536948242535, 0.6842827846869108, 0.6851932706418857, 0.6848624902643405, 0.684490984322578, 0.6849577656878232, 0.6851740468559542, 0.6847790998410168, 0.6846329476481345, 0.6850197888661026, 0.6845743250864829, 0.6840863065785385, 0.6845788638177897, 0.6844104833448634, 0.6848805427379516, 0.684758734725603, 0.6841473168364435, 0.6846353457715322, 0.6847534461514875, 0.6851500018599512, 0.6841770571714811, 0.6838383369163767, 0.6845221630146392, 0.6834045933094754, 0.6844388011026339, 0.684493032066452, 0.6849061201615334, 0.6848421758806913, 0.6849427632657321, 0.6846417560920384, 0.6843183169698125, 0.6849557786682638, 0.6854792971042892, 0.6846474534794043, 0.6840805468144745, 0.6849920494222894, 0.6848437395899291, 0.6849839560564217, 0.6837228023998527, 0.684885052664943, 0.6843247630836375, 0.6845774085641466, 0.6859987064474835, 0.6847354275279619, 0.68516103723734, 0.6847930524526364, 0.6843112708609078, 0.6846611241123637, 0.6851322126112731, 0.6847963151195904, 0.6844783875109951, 0.6838166966833636, 0.6847074299753699, 0.6850791461659391, 0.6841648765993833, 0.6847757656995664, 0.6850956259202887, 0.6849352034040775, 0.6851365282397521, 0.683548032208612, 0.685057885635062, 0.6841964922200949, 0.6848829202224767, 0.6842013872136781, 0.6840343724777922, 0.6847665892499059, 0.6845544900734761, 0.6846123892738524, 0.68460934155756, 0.6849425580887136, 0.6850109205188408, 0.6853699736951229, 0.6846188896705538, 0.6857674512602087, 0.6848444177382884, 0.6856530621973548, 0.6847146480744779, 0.6844947909124693, 0.6847348731958103, 0.685316914394898, 0.6849127684332779, 0.6846583627477723, 0.6836442167148136, 0.6846272901581809, 0.6849422563530317, 0.6849350191677575, 0.6845881070528401, 0.6849645172471449, 0.6844577699928995, 0.6841947807259707, 0.6843694627345283, 0.6844088795192282, 0.6848670354880048, 0.6842245926926142, 0.6850068941619741, 0.6846071334786424, 0.6853250323531708, 0.6855241251826506, 0.6851230239764055, 0.6852141548098374, 0.6846144034531868, 0.6847300935391941, 0.6852645128737023, 0.6846942090693582, 0.6841968244413845, 0.6844795327890171, 0.684060222459288, 0.6833174383993608, 0.6846979006541776, 0.6843288078274179, 0.6850803696137595, 0.6842464324505155, 0.6846509258780027, 0.6847487354275197, 0.6842994321299507, 0.6840963240466607, 0.6851872816280375, 0.6841377872289085, 0.6856169952654841, 0.6853294857613186, 0.6845657050433342, 0.6853449361347794, 0.6845580416315429, 0.6845620479448312, 0.6849628589185525, 0.6836593518494858, 0.6849944075331371, 0.6850058278009827, 0.6849076510039644, 0.6848958341579856, 0.6847531424276039, 0.6849701904380125, 0.6849823950053358, 0.6845676257803315, 0.6843905680749205, 0.684494029901326, 0.6847920260963967, 0.6851183243118282, 0.683978442956649, 0.6849679080544672, 0.6841956867939629, 0.6847794414157647, 0.6850720708057771, 0.6845815231778516, 0.6854804773464924, 0.6845332180431947, 0.6846561235871469, 0.6846506956709271, 0.6847339703585216, 0.6844197321736971, 0.6848759119918659, 0.6852739662169913, 0.6854752136961452, 0.6855798349682413, 0.6837917593986726, 0.6849412468522973, 0.6840629251115296, 0.6844531729007153, 0.6849583735889802, 0.6847043450260635, 0.685280755694339, 0.6844236600875074, 0.684229655279972, 0.6840005988491392, 0.6839429019380928, 0.6853231126134754, 0.684646788602362, 0.6848963382914701, 0.6844131600682457, 0.684380429513529, 0.6843553172376531, 0.684464801127732, 0.684536140846236, 0.6844660514037084, 0.6848299060157583, 0.6836668492908229, 0.6849885554051722, 0.6838507886227309, 0.6853037113202527, 0.6845875028737863, 0.6847072147624906, 0.68482351218488, 0.6854309383958999, 0.6853512343354358, 0.6843141756572179, 0.6840415481787737, 0.6843142009346366, 0.6858293687339533, 0.6849991130311193, 0.6851432605466994, 0.6856211030632655, 0.6850007448974123, 0.6841618788002206, 0.68475702759574, 0.6847410099820295, 0.6847988103105107, 0.6848632879199819, 0.6843835828806417, 0.6845647151912655, 0.6850755199320168, 0.6844185654234134, 0.6847599653458091, 0.6848072308977445, 0.6856117366073045, 0.6847641764177662, 0.6841615463913071, 0.6849111780325504, 0.6842458929266297, 0.684022811086088, 0.6848031326380115, 0.6834646609411915, 0.6850892238603918, 0.6845080806729611, 0.6854904930335677, 0.6851268656662166, 0.6852674117051099, 0.6844428540679445, 0.6845074389316723, 0.6836801470202019, 0.684282988879126, 0.6851043235806271, 0.6847554163851113, 0.6848549631053831, 0.6840991589544949, 0.6844649078883488, 0.6848614980883676, 0.6839340187285681, 0.6846235067186552, 0.6848740835728984, 0.6847493202747539, 0.684187396661555, 0.6841610561531168, 0.684529645204393, 0.6844943672654615, 0.6851327560888517, 0.6848475088660636, 0.6844876631864982, 0.6836149779468024, 0.6848365108757828, 0.6852603403586497, 0.6847162839651795, 0.6850081953851729, 0.6850425954853885, 0.6848405640178699, 0.6840527010052602, 0.6842985181910733, 0.685193811015654, 0.6851502092578219, 0.6845758188594386, 0.6836676677172842, 0.6837040305010329, 0.6850252811108959, 0.6842412436526536, 0.6844864665105924, 0.6854724543841371, 0.6845616432746997, 0.6844338220894778, 0.6844846086036002, 0.6851272036031724, 0.6847740196507938, 0.685120493139611, 0.6843447067001533, 0.6849052687494213, 0.6849923963173078, 0.6848777231036196, 0.6849084053810663, 0.6843651960182081, 0.6843901025742747, 0.6849678451485866, 0.6844943821599135, 0.6845987672446421, 0.685037027832726, 0.6839617759011083, 0.6854925328151028, 0.6842288054135932, 0.6847890906240997, 0.6844435266698198, 0.6854791766964029, 0.6840959818175186, 0.6842708061226044, 0.6845798287740528, 0.684499465222502, 0.6843238166684183, 0.6848715556222223, 0.6849276374998077, 0.684567832591581, 0.6844192146481334, 0.6844704377336563, 0.6849362414371649, 0.6849062734379421, 0.6843103066343685, 0.6845286265313053, 0.6847943939620147, 0.6840696370359489, 0.6844542142024348, 0.6841422980416578, 0.6839543152991701, 0.6843669053959094, 0.6846114579619706, 0.6846239447964164, 0.6845871299348658, 0.6837147793543217, 0.6842694162381098, 0.6846576125028703, 0.6841210047218131, 0.6840532608647858, 0.68472668299484, 0.685137459195431, 0.685560737918445, 0.684527567649432, 0.6845382744271236, 0.684395824987029, 0.6852977390673225, 0.6847675243335001, 0.6848279472204196, 0.6842509858815042, 0.6846832111160184, 0.6840712122500161, 0.6835593071208048, 0.6842865601509467, 0.68529441615606, 0.6845418625766677, 0.6845016053294894, 0.6846284056096745, 0.6841704186224165, 0.6852134218866732, 0.6844693786297684, 0.6843488459139091, 0.6841078528967615, 0.6844392158507071, 0.684501660001475, 0.6842000925871543, 0.6848517796898119, 0.6842642663538995, 0.6852339897134112, 0.6848938117651981, 0.6845756648118604, 0.6843754201214834, 0.6851229088212063, 0.6849693939536015, 0.6848377964271872, 0.6849320440011406, 0.6851092233737835, 0.6844111552431678, 0.68433886771549, 0.6846265405167178, 0.684069055841618, 0.684905327441508, 0.685013727226723, 0.6843194141088246, 0.6845276549586632, 0.6841929319782254, 0.6852798231023395, 0.6842712170825814, 0.6847025177219996, 0.6844994566376992, 0.683847478747672, 0.6842627638941985, 0.6848504116552259, 0.6846859650439676, 0.6844943788057887, 0.6836078989155652, 0.6840707232552168, 0.6843536417989857, 0.6846845042768115, 0.6850612342164375, 0.6847619769817768, 0.6847676649404334, 0.6851473363832981, 0.6843854112996679, 0.6853951296611049, 0.6839677882863509, 0.6849728479348187, 0.6845885339733222, 0.6839498589975007, 0.6849070135261832, 0.6837834042155754, 0.6844222992374679, 0.6839745155163194, 0.6843539243278753, 0.6848669923973655, 0.6839957590061219, 0.6848537710244861, 0.6837104214009413, 0.6850262565402172, 0.6838046693424178, 0.6840695972690456, 0.6844701495636465, 0.6845053732857238, 0.685028881270282, 0.6845948730494525, 0.6845932134557187, 0.6845389984488988, 0.6849439111798552, 0.6843852649386222, 0.684304610944338, 0.6849720606824861, 0.6844638234710768, 0.6846191272369202, 0.6841439232522022, 0.6843627182690731, 0.6851039334371518, 0.6852899435797164, 0.6842594495007639, 0.6853392443111925, 0.6851168320376817, 0.6846026648407433, 0.6854422618381902, 0.6845146109088077, 0.6855253981054927, 0.6843104847462768, 0.6847775846712683, 0.6841940710959864, 0.6845665018422984, 0.6847339518045834, 0.6841060991200549, 0.685034557206739, 0.684460963294351, 0.6847689977722176, 0.684590474139904, 0.6845519327642047, 0.6852571609126907, 0.6848769082439758, 0.6838664116318361, 0.6844318011061477, 0.6848005059234972, 0.6847503933495308, 0.6848804311370167, 0.6838284098082191, 0.6838903633378588, 0.6851445564360445, 0.6847121713871562, 0.684402991196432, 0.6849272993767932, 0.684694730094249, 0.6850304768753405, 0.6847617255642799, 0.6848383322403897, 0.684361613506759, 0.6837676845193748, 0.685141195543184, 0.6840374357425366, 0.6842570620348487, 0.6841710583151235, 0.6850220363197377, 0.6848059304531262, 0.6848041439452383, 0.6842630576111388, 0.6842203241061391, 0.6850925714274425, 0.6845388033804594, 0.6841838192341646, 0.6843097256891252, 0.6849463999152232, 0.6845348900040737, 0.6850795252412081, 0.6839164321870191, 0.684932419842718, 0.684402039860568, 0.6850371418918442, 0.684676845915362, 0.6847882229730082, 0.6848728733992042, 0.6850303270301898, 0.685075279490611, 0.6846205612156469, 0.6844755705433594, 0.6849020672709527, 0.6847368268676546, 0.6850985081299503, 0.6850725301756363, 0.6855772396563358, 0.6845235392982978, 0.6850058293493645, 0.6850098247537262, 0.6852505827512284, 0.6851798272095475, 0.6848823958278571, 0.6852004847941047, 0.6851975093137485, 0.683978233496077, 0.683922223464449, 0.6843327045893155, 0.6846253960869301, 0.6855745338602584, 0.6848651724389772, 0.6852703044361762, 0.6847160467740994, 0.6844796352790182, 0.684833271438454, 0.6854830480958585, 0.6844305894104921, 0.6854834473437872, 0.684634718064524, 0.685363808502824, 0.6847963415802285, 0.684760213627376, 0.6842113609079427, 0.6847418385105206, 0.6850685277812316, 0.6846046283349339, 0.6848328432005106, 0.6843771617133012, 0.6844608064979204, 0.6842885783223701, 0.6852501839678495, 0.685131787684264, 0.6848413238608684, 0.6846413395513757, 0.6850838216914631, 0.6853755891590452, 0.6847880496082109, 0.6850913752399155, 0.6845226028930248, 0.6841764923458447, 0.6841868754557269, 0.6848447254781891, 0.6845041324852508, 0.6838532918141962, 0.6839210941948517, 0.684253529644831, 0.6847744573338579, 0.6856313956525477, 0.6847292230464935, 0.6845396794360673, 0.6847124630868466, 0.6845399508115515, 0.683154501718543, 0.6852997895795725, 0.6845447510622681, 0.6849381880528536, 0.6837847459512015, 0.684490372665986, 0.6847952334066674, 0.6846256302250178, 0.6841709540307752, 0.6841942998343034, 0.6850281102559186, 0.6845483612166477, 0.6843230606293944, 0.684645474315515, 0.6843316383769573, 0.684837451758334, 0.6841059486905459, 0.6853650469117928, 0.6854058130451419, 0.6842848345288214, 0.684865750334153, 0.6844505559047501, 0.6845257253430711, 0.6851504072391368, 0.684792450413851, 0.6842304819608491, 0.6849496886371342, 0.6853316543523391, 0.6843042977426765, 0.6851722334035063, 0.6842101865145356, 0.6842316189008901, 0.6841118698725575, 0.6852035616208403, 0.6855985841672558, 0.684728619355227, 0.6844125332981664, 0.6854491873229918, 0.6847133510038884, 0.6844591305057268, 0.6843066648575142, 0.684595472769031, 0.6837726074089383, 0.6840490137723924, 0.6849693108438213, 0.6835783436106238, 0.6843777554570296, 0.6849409084606521, 0.6847077030836003, 0.6846593312299788, 0.6847792208305725, 0.6840442404961838, 0.6839885249387875, 0.6847810656923383, 0.6847007253146684, 0.6845269044874345, 0.6840511731125761, 0.6842606922362326, 0.685889010115663, 0.6843567239812065, 0.6849514587688664, 0.6844994003444997, 0.6845085767424701, 0.6853053799824198, 0.6844384101515586, 0.6849993348621355, 0.6849550806813639, 0.6853268307945588, 0.6849960414689227, 0.6840713336309023, 0.685213194186153, 0.6847353722670191, 0.6845580237341949, 0.6836536183426336, 0.684850901571673, 0.6850231880072974, 0.6846937286982138, 0.6842978590791162, 0.6836493986764789, 0.6846737827658745, 0.6842967458489064, 0.684799852239907, 0.684530728903692, 0.6842639534485144, 0.6847832321623797, 0.6844577971787368, 0.684535516927568, 0.6854680891764355, 0.68462382165341, 0.6845963719912259, 0.6841616542881666, 0.6845067799857916, 0.6851483442919153, 0.6858342389053544, 0.6844858601508936, 0.6850502544154276, 0.6847800151664509, 0.6838824750431894, 0.6853227230938547, 0.6853681031487506, 0.6847330871345858, 0.6851426326919461, 0.6844472187550839, 0.6849475257755797, 0.6852387223333712, 0.6838174528617691, 0.6846838977484409, 0.6848664431829941, 0.6843781810244067, 0.6845606801743171, 0.6845286306289725, 0.6843837112486171, 0.6848561489141989, 0.6840697261238474, 0.6851570455903992, 0.6853253651640476, 0.6854322355727374, 0.6842272763984756, 0.6850456638118516, 0.6843278197761351, 0.6845863261252383, 0.6855343171632737, 0.6853039492549566, 0.6843965362942235, 0.685182198585565, 0.6841684054247271, 0.6854667771382261, 0.6843753322401883, 0.684539814525343, 0.6850312953031894, 0.6843224486593024, 0.6845470530865387, 0.6842344678875472, 0.6841693237075329, 0.6847755446473509, 0.6843713904898638, 0.6857634911406696, 0.6847444425862879, 0.6842434017266263, 0.6852367767523782, 0.684682869022332, 0.6846030943568603, 0.6838868736175169, 0.6844277211410936, 0.685519285118589, 0.6850178067334554, 0.6844705807902329, 0.6848422999682178, 0.6847423145380098, 0.6849536192721407, 0.6852288290221091, 0.6843584468736255, 0.6848166431476412, 0.6846388080846688, 0.6850201280756646, 0.6847876120221759, 0.6837253859106788, 0.6851352323959894, 0.6844823723380482, 0.6844774628094223, 0.6847000849839544, 0.684543705675178, 0.6846770493059766, 0.6839833077368055, 0.6848253250692427, 0.6842701442033479, 0.6850292748396007, 0.6844597075790898, 0.6850399756168346, 0.6842625234492963, 0.684353961726415, 0.6840478752336889, 0.6841801892866353, 0.6845299433550667, 0.684588349717745, 0.6845179891158422, 0.6844939871348498, 0.6843322969464987, 0.685418492360258, 0.6842766219638505, 0.6853372943427309, 0.685402226038477, 0.6847714008445085, 0.6849098130245281, 0.6850002915121978, 0.6847205123940996, 0.684408529714778, 0.6851476707563933, 0.6844802348498135, 0.6849773287977708, 0.6852924965618359, 0.6849514474480525, 0.6843992154779629, 0.6842345046652187, 0.6849270983306739, 0.6840735013070982, 0.6849719576448008, 0.6847710541922023, 0.6849554686853501, 0.6854190424181358, 0.6842892265890002, 0.6847818157288287, 0.6850326313374755, 0.6845224013659728, 0.6842352945442332, 0.6856643063972495, 0.6854259369795065, 0.6844181193929577, 0.6850898066573321, 0.6856089265307201, 0.6849641489304635, 0.6847093348053965, 0.6845749671751999, 0.6846831879734725, 0.6847866554269827, 0.684878919822546, 0.6846731240996341, 0.6850109198911973, 0.6844667227609861, 0.6850192397688082, 0.6857568723256838, 0.6850069856725105, 0.6856034184079383, 0.6852524057459376, 0.6846304414482534, 0.6845394849526225, 0.6846762610581816, 0.6844437014091875, 0.6854365432006811, 0.6845636707069078, 0.6840800725730853, 0.6849253347151155, 0.6848092351424027, 0.6837991084073527, 0.6850424806151774, 0.6856748936301671, 0.6839365489497391, 0.6855809077138222, 0.6848664757595677, 0.6847127649268875, 0.684232021464884, 0.6850234243386863, 0.6845551319821928, 0.6848282035959463, 0.6851028467930838, 0.6839142072817095, 0.6851959432547945, 0.6848762572471232, 0.6848879740725746, 0.6842030156280001, 0.6851824057417643, 0.6842887155217726, 0.6843979827426414, 0.6843711241512522, 0.6850655577630422, 0.6850998058886516, 0.6844834864270501, 0.6847752872708723, 0.6847486091928161, 0.6843744171472346, 0.6847684010300426, 0.6845714518894896, 0.6842434010504621, 0.6848476097562847, 0.6851838386172531, 0.6839521040078544, 0.6842119109529267, 0.6843892719951954, 0.6848667138011303, 0.6845033872512704, 0.684956582552168, 0.6841163246472298, 0.6844191005277991, 0.6845707692067999, 0.6847729030117724, 0.6847307573395058, 0.6847331942128037, 0.6851134000404888, 0.6843349271522661, 0.6842092815362214, 0.6845714912608509, 0.6847337357062271, 0.6843512556227496, 0.6840008588611249, 0.684914525417033, 0.6839950204615486, 0.6848632114523945, 0.6842143275745768, 0.6848151608196631, 0.6842784742286816, 0.6845547908847165, 0.685047146665445, 0.6845359697836368, 0.6847831266623626, 0.6851102325167835, 0.6846486122293066, 0.6849534388008747, 0.6844400795483325, 0.685286644658991, 0.6847253742410536, 0.6851329033707974, 0.6847305073314107, 0.6848643130496481, 0.685444489692939, 0.6837169118876258, 0.6852646951250744, 0.6850642890983001, 0.6838522447607381, 0.6837585205419141, 0.6841426310916345, 0.6843036290463422, 0.6844918560454126, 0.684587546987178, 0.6850388834364238, 0.6846042084715875, 0.6844367273124349, 0.683584452403239, 0.6844649136464128, 0.6846510830342862, 0.6838742916546025, 0.6848651330100581, 0.6854595793398499, 0.6842578122633574, 0.6844623217221584, 0.6849683888054698, 0.6849459216431529, 0.6850887711385942, 0.6849320480455472, 0.6843468392184195, 0.6845608322917134, 0.6847849227073979, 0.6845021804111576, 0.6853668244172095, 0.6844275210032611, 0.6851408955793222, 0.6851918520931588, 0.6843167922163179, 0.6846735177809922, 0.6847440702940563, 0.6852811955030693, 0.6846289023169574, 0.6843095533693795, 0.6850173407461015, 0.6854359300161518, 0.6844673016843145, 0.6854208994820832, 0.6852275109035674, 0.6852245793971672, 0.6846593320434582, 0.6850221889674715, 0.6843533852194044, 0.6843286911022415, 0.6847890453830896, 0.6847287255184872, 0.6839809759970574, 0.6837861329514267, 0.6843292396123738, 0.6844968559231545, 0.68481019646205, 0.6840693011180758, 0.684033601547205, 0.6843055898332823, 0.6849364502167063, 0.6842152540898007, 0.6848628906171375, 0.6845467649585332, 0.6850001356133268, 0.684069658380966, 0.6846234423243239, 0.6846599881651904, 0.6847851057718086, 0.6851569656265963, 0.6852656410265796, 0.6840439331358331, 0.6847439167514247, 0.6847400940914383, 0.6843510674069839, 0.6848877825111723, 0.684580447905539, 0.6857504875671003, 0.6846731883029279, 0.6847844459941246, 0.6847032236225264, 0.6837000727318739, 0.684104599766566, 0.6844423094793257, 0.6848967125039925, 0.6848291453460338, 0.6837229642247519, 0.684920669493793, 0.683672817287319, 0.6838587990058991, 0.685192617590172, 0.6847095658712676, 0.685040446135608, 0.6850734583488083, 0.684281982336651, 0.6842973187525957, 0.6847694901497532, 0.6851014419688681, 0.6847392201113991, 0.6842425627855597, 0.6852505637276851, 0.6848590021023612, 0.6847839778456601, 0.6851232568545813, 0.6842335205097391, 0.6848296459008604, 0.6843875758723578, 0.6849169413918343, 0.6844651740335473, 0.6842845134183171, 0.6848144375991896, 0.6850294019112697, 0.6841038942849973, 0.6841548009240839, 0.6847656297449567, 0.6854023914009009, 0.6846441176551628, 0.6840554934787377, 0.6839037858539184, 0.6857167763743164, 0.6845106216357737, 0.6842212275478995, 0.6838647626394444, 0.6843093202587422, 0.6848239826851822, 0.6849227273235622, 0.6839386685583277, 0.685137734383034, 0.684330926882724, 0.685183490448639, 0.6841922446004752, 0.6848607035314718, 0.6849769940391282, 0.6848916935558839, 0.6853157766800142, 0.6845974445114946, 0.6842282662587975, 0.6847371020757883, 0.6852158069555102, 0.685014112140983, 0.6842812647754765, 0.6854124888939169, 0.6843055602806591, 0.6849871626436427, 0.6840995860259087, 0.6846025442407153, 0.6848595565334794, 0.6846768604959712, 0.6841609045623747, 0.6836573102443944, 0.6834034198007415, 0.685211893709165, 0.6849129386955265, 0.6848585126368575, 0.684717924638686, 0.6845702341831901, 0.6849976450496482, 0.6840954505907834, 0.6847211600951093, 0.6848682629189773, 0.6852263598819005, 0.6848499206962673, 0.6843524161341936, 0.6852029491699243, 0.6843148794164493, 0.6845995803349293, 0.6851720678153966, 0.6849492897231193, 0.6852541668348271, 0.6844296778579939, 0.6843647905625314, 0.6849614424123109, 0.6841279139564397, 0.6843149049514904, 0.6837867632168289, 0.6848822744656053, 0.6838956658595199, 0.6846085921120799, 0.684277036514221, 0.6849226752470277, 0.6839199476217803, 0.6836086481165884, 0.684692017315799, 0.6844465296919761, 0.684060700834966, 0.6849758965082646, 0.6836983352811121, 0.6846466979509345, 0.6844360332936577, 0.6847415538217043, 0.6840577552179223, 0.6845899637003521, 0.6839625388601716, 0.6847676101473695, 0.6852694422018123, 0.684635687381389, 0.684948613161011, 0.6842876143816243, 0.6848185361459718, 0.6842247815368472, 0.685355051600075, 0.6842707227297578, 0.684956149318211, 0.6845118278634463, 0.6848403423591505, 0.6847201674389481, 0.6849016966970869, 0.684296609351907, 0.6850199552117388, 0.6849817348839633, 0.6849118053589784, 0.6851470258113869, 0.6842399835190673, 0.6841591634791582, 0.6843318803403667, 0.6850099483464681, 0.6846349941372485, 0.6851396204916531, 0.684889270732421, 0.6848955995448806, 0.6851480077435926, 0.684902447793059, 0.6842212585596005, 0.6849013668695265, 0.6848331471640904, 0.6854499453335509, 0.6850100944747457, 0.6850317919213176, 0.6849772571488975, 0.6846619536953662, 0.6855134758921788, 0.6848308257314321, 0.6840116926629918, 0.6842611243351671, 0.6840003020783061, 0.6838480631519468, 0.6840471901991825, 0.6841396503811568, 0.6857079937532944, 0.684375258388759, 0.6847939142727208, 0.6842835737282282, 0.6848062094186953, 0.6846611320721596, 0.6836210986689766, 0.6841039647906889, 0.6840001294746925, 0.6841415931932786, 0.6847024471718384, 0.6837298358961477, 0.684858375450407, 0.6845007959259408, 0.684291859826615, 0.6851619619788103, 0.6852449614203723, 0.6852799303111472, 0.6846567085411497, 0.6851146144812108, 0.6853084832500814, 0.6849041401192122, 0.6843747293622597, 0.6858638985471601, 0.6848747114076947, 0.6838505380450751, 0.6850609551260335, 0.6843975500316981, 0.684331199939488, 0.68528643066189, 0.6847339670010105, 0.6846248617097634, 0.6846156139687967, 0.6851295648731845, 0.6846113585314113, 0.6834409403814152, 0.6844675234298809, 0.6849240221611532, 0.6840005504789657, 0.6840024446200605, 0.6845763276239225, 0.6848854476779673, 0.68457043795299, 0.6844646341469991, 0.685358405971543, 0.6851036928085064, 0.6841561317834581, 0.6847233380660604, 0.6844677484022148, 0.6846404265989857, 0.6843033411210514, 0.6845789195157121, 0.6846142644871456, 0.6845291929603499, 0.6846132412503951, 0.6846053516616489, 0.6845805708569304, 0.6843821310749989, 0.6842821110048098, 0.6849861670255398, 0.6845954515884941, 0.6843497929461376, 0.6846931394927729, 0.6847286794214293, 0.6848615734683441, 0.684132337228638, 0.6850325867132032, 0.6845501377011001, 0.685173713663195, 0.6840095349769628, 0.68471923706668, 0.6847228488211792, 0.6848360022331234, 0.684708712051701, 0.6841827524162578, 0.6845736580365769, 0.6845661637349898, 0.6847219321985665, 0.6843714959968781, 0.6851482554482431, 0.6843687710286381, 0.6844671330460439, 0.6851883568959991, 0.6842987069602351, 0.6848556390254441, 0.6852075141740743, 0.684654321661468, 0.6847646440664799, 0.6849470566613909, 0.6844115021054334, 0.6846898863016122, 0.6855116195094422, 0.6844673909740018, 0.6849927865743675, 0.6845474679734594, 0.6842995250681461, 0.6840423521111765, 0.6855083038491177, 0.6837670353124606, 0.6844680451501031, 0.6845345849471467, 0.6846874450758889, 0.6844831932928588, 0.6853710771332846, 0.6838540906950719, 0.6849512506508393, 0.6845097876911131, 0.6845093484985897, 0.6840723201069031, 0.6841295611551743, 0.684403999555502, 0.6849452035798003, 0.6848022154635083, 0.6852378097450335, 0.684685173072665, 0.6852468456505321, 0.6850725562769493, 0.6846492962687476, 0.6842597959797174, 0.6840954121876035, 0.6853677365527373, 0.6849306321997026, 0.6844239172993953, 0.68342397031641, 0.6844983782611821, 0.6844071690666292, 0.6850036945566172, 0.6855276138008979, 0.6840482772638307, 0.6838913212622408, 0.6851796594689554, 0.6844296095840359, 0.6851616395703202, 0.684782540358938, 0.6852038407226066, 0.6846282110023187, 0.6849649469076149, 0.6852873220988949, 0.6850292987660083, 0.6852514028492598, 0.6848571204031133, 0.6842666345221069, 0.685377039916444, 0.6852184476345418, 0.6854114875904131, 0.6846383009333578, 0.684333486340519, 0.6837395522561807, 0.6844617904013932, 0.6850022865004315, 0.6847622709584605, 0.6849762062724571, 0.6846165828498637, 0.684531030090543, 0.6843965118089713, 0.6840772511558069, 0.6843810680624882, 0.6851342719186495, 0.6841350973499589, 0.6842627027844093, 0.6848042604361614, 0.6846325601565151, 0.6846970656364297, 0.6853543586236615, 0.6848672444338049, 0.6854480055213903, 0.6844240609050476, 0.6848189964852309, 0.6840381339940164, 0.6850539374355034, 0.6846623676376264, 0.6842759134841883, 0.6845173539241967, 0.6845172397426366, 0.6848158988523018, 0.684900238318854, 0.6847170494451881, 0.6848787632499425, 0.6840649154303298, 0.6851118601804287, 0.6850388969860679, 0.6843585055541457, 0.6847461598797845, 0.6843127450148057, 0.6838337155082979, 0.6840004858069766, 0.6846835545977972, 0.6847732649233553, 0.6841051226527013, 0.6854087176600647, 0.684585995422132, 0.6841760594613233, 0.6852986040594781, 0.6840719799068697, 0.6846494542469987, 0.6850430821901742, 0.6849392388263145, 0.6856734755882696, 0.685084762091928, 0.6837495373384401, 0.6856244378887022, 0.6841944687264324, 0.6843105266815925, 0.6848881385612211, 0.6844242537255267, 0.6844614131746679, 0.684352748099188, 0.6836014026265735, 0.6842236214855679, 0.6842622811195886, 0.6846901295377539, 0.6845777262591834, 0.6847377825303309, 0.6844909711175196, 0.6850478757353702, 0.6842886976302838, 0.6838150928264668, 0.6847289244829178, 0.6844735866138532, 0.6847707306778319, 0.6855846572047293, 0.6850968225744298, 0.6844870489664248, 0.6851866114372576, 0.6838835284204285, 0.6855298848881479, 0.685081444007013, 0.6843184270323908, 0.684152589145334, 0.6848182667068503, 0.6837562788205118, 0.6850181486290952, 0.6845174943367722, 0.6847033079306362, 0.6847187836954123, 0.6850914442196205, 0.6832829348189408, 0.6853141296566024, 0.6841564643060655, 0.6851024230231223, 0.6846759235311953, 0.6845171689566704, 0.6839919290050517, 0.6849345727593819, 0.6840934340053377, 0.6846761487385731, 0.6843426005459915, 0.6845249741121799, 0.6843678965052892, 0.6849942541310523, 0.6839037798690879, 0.6850395146497787, 0.6846984042966404, 0.6840448019143518, 0.6847069800542895, 0.6844945563150865, 0.6850348872980871, 0.6851253300333959, 0.6849172708797615, 0.6851922493635301, 0.6845775165639792, 0.6844999879056939, 0.6837859342991384, 0.6843430564272857, 0.6842127305668355, 0.6848178227504182, 0.6841823544223372, 0.6845738716103879, 0.6844695099893787, 0.6846397982790995, 0.6850084180336145, 0.684565063249094, 0.6849414102200926, 0.6847312317299858, 0.6848650212641092, 0.6846561951594374, 0.6836240247748273, 0.6845826387911618, 0.683893168770414, 0.6846319137359085, 0.6841476205768193, 0.6847453467300806, 0.6850567510016693, 0.6839402371784775, 0.6844951148089766, 0.6852713052756734, 0.6839541206427762, 0.6858256639204261, 0.6844221738352554, 0.6852016215782961, 0.6848194491492008, 0.685748991104481, 0.6842967124123083, 0.6842012964182059, 0.6847512096651169, 0.6840737275522011, 0.6839302101870357, 0.6843461730420384, 0.6846704323594948, 0.6847041510735514, 0.6845567233737679, 0.684440226161299, 0.6855424300437546, 0.6845875109381574, 0.6846902599788989, 0.684910441460632, 0.6848852146083471, 0.6835290670812154, 0.6853008865307078, 0.6842687757233739, 0.68479573416415, 0.684674734339557, 0.6843943774528245, 0.6845331319537633, 0.6843649098599095, 0.6849710940815142, 0.6846417446823889, 0.6845835399928076, 0.6846476361609026, 0.6848898763268383, 0.6850857123436852, 0.6847469596487789, 0.6840024663591822, 0.6848350688819973, 0.6847776809939381, 0.6846997236541186, 0.6842062859827716, 0.6839907494463373, 0.6851031497159594, 0.6843355554853763, 0.6851011659068856, 0.6843172239925286, 0.6851942183535671, 0.6847975209489388, 0.6846204342865198, 0.6842165161185152, 0.6852997571825414, 0.6853799437117382, 0.6850584207799657, 0.6838836007627651, 0.6845315997451991, 0.6846153992550313, 0.6854999765025815, 0.6848879237377585, 0.6842370948112997, 0.6849439076513046, 0.6846208936077064, 0.6849662330890072, 0.6847288945140066, 0.6846416430290679, 0.6847545304246325, 0.6845315789479618, 0.6849238239168953, 0.6853102627657593, 0.6852504588304626, 0.6842075842629526, 0.6849324648838115, 0.6851466466786841, 0.6852098499314552, 0.6841205853385672, 0.6851731886593562, 0.6844316229291716, 0.684752939161129, 0.6843731246775899, 0.684747725484664, 0.6844886142927442, 0.6841652488293822, 0.6848112601305718, 0.684217606128787, 0.6843100389248251, 0.684829437482345, 0.6838868527670248, 0.6848940604221292, 0.684671074088064, 0.6846529142516442, 0.6849349310218531, 0.6854030807870465, 0.684981620481092, 0.6845909220265242, 0.6848505287777069, 0.684663805742386, 0.6846578258548591, 0.6851132327720504, 0.684952747230779, 0.6849381116154587, 0.6851056656897587, 0.6846672514977444, 0.6843434086818407, 0.6853197968881553, 0.685421780279535, 0.6850167215888252, 0.6845596775606778, 0.684415234332912, 0.6847283567152291, 0.68483197710646, 0.6853115889494743, 0.6847963990922583, 0.6842220382278958, 0.6851600698846179, 0.6845485114635432, 0.6842565999629202, 0.6853401365676421, 0.6850889254090907, 0.684132805504455, 0.6842140529828284, 0.6848554171316968, 0.6842104152976098, 0.6849081189332583, 0.6845543111928379, 0.6849719215040357, 0.6852038670981437, 0.6845699379079722, 0.6846564207187102, 0.6853263055047693, 0.6847090912550504, 0.6853248758233479, 0.6846430053893728, 0.6852273080261757, 0.6847442261018224, 0.6844734835471669, 0.684836103441321, 0.6846541549222858, 0.6841160951963312, 0.6851844211941613, 0.6836171674038235, 0.6840460937814464, 0.6848398336390162, 0.6846521557224456, 0.6849988056059475, 0.6851298759022446, 0.6853917052231954, 0.6849246723570823, 0.6852152353329626, 0.6847151321018969, 0.6840253314037714, 0.6840828476170511, 0.6850343924783127, 0.6843809735468696, 0.6848610951935328, 0.6836679026260627, 0.6845938452250603, 0.6849942245258424, 0.6850808350776416, 0.684224945060198, 0.6852082312746695, 0.6844532550997295, 0.6842018729151005, 0.6848767763883038, 0.6845122326272803, 0.6840982374278057, 0.6850893321784393, 0.6849563525053408, 0.6845919432396501, 0.6846359627567593, 0.6846035397912257, 0.6843945950590684, 0.6845339003287239, 0.6838409153619714, 0.68423518810796, 0.6854086405623228]\n"
          ],
          "name": "stdout"
        }
      ]
    },
    {
      "cell_type": "code",
      "metadata": {
        "id": "MN6lNag1I1uv",
        "outputId": "59bde9b5-fe56-4b3d-b713-37d47e715d17",
        "colab": {
          "base_uri": "https://localhost:8080/",
          "height": 316
        }
      },
      "source": [
        "pd.DataFrame(betacoefs).hist()"
      ],
      "execution_count": 78,
      "outputs": [
        {
          "output_type": "execute_result",
          "data": {
            "text/plain": [
              "array([[<matplotlib.axes._subplots.AxesSubplot object at 0x7f0d73c033c8>]],\n",
              "      dtype=object)"
            ]
          },
          "metadata": {
            "tags": []
          },
          "execution_count": 78
        },
        {
          "output_type": "display_data",
          "data": {
            "image/png": "[encoded data removed]",
            "text/plain": [
              "<Figure size 432x288 with 1 Axes>"
            ]
          },
          "metadata": {
            "tags": [],
            "needs_background": "light"
          }
        }
      ]
    },
    {
      "cell_type": "code",
      "metadata": {
        "id": "LZcQ70HqJTIu"
      },
      "source": [
        "import matplotlib.pyplot as plt\n",
        "plt.hist(betacoefs)"
      ],
      "execution_count": null,
      "outputs": []
    },
    {
      "cell_type": "markdown",
      "metadata": {
        "id": "l8MelTxsLrzq"
      },
      "source": [
        "# Cómo son los residuos (errores estimados) en mis datos?\n"
      ]
    },
    {
      "cell_type": "code",
      "metadata": {
        "id": "n4sZ7Av3LnnM",
        "outputId": "38e7cec9-1ca6-4e3b-ee0e-52c0250299c2",
        "colab": {
          "base_uri": "https://localhost:8080/",
          "height": 283
        }
      },
      "source": [
        "residuos.hist()"
      ],
      "execution_count": 79,
      "outputs": [
        {
          "output_type": "execute_result",
          "data": {
            "text/plain": [
              "<matplotlib.axes._subplots.AxesSubplot at 0x7f0d73ac7c50>"
            ]
          },
          "metadata": {
            "tags": []
          },
          "execution_count": 79
        },
        {
          "output_type": "display_data",
          "data": {
            "image/png": "[encoded data removed]",
            "text/plain": [
              "<Figure size 432x288 with 1 Axes>"
            ]
          },
          "metadata": {
            "tags": [],
            "needs_background": "light"
          }
        }
      ]
    },
    {
      "cell_type": "code",
      "metadata": {
        "id": "RpIU-4Iq4ciC"
      },
      "source": [
        "def regress(lista, data):\n",
        "  \"\"\" \n",
        "  Funcion que realiza la regresion OLS\n",
        "  La primera variable de la lista es la dependiente, el resto son las explicativas\n",
        "  data es la base de datos\n",
        "  \"\"\"\n",
        "  datos=data[lista]\n",
        "  # el metodo dropna() me permite eliminar las filas que tienen algun valor missing\n",
        "  datos=datos.dropna()\n",
        "  Y=datos[lista[0]]\n",
        "  X=datos[lista[1:]]\n",
        "  X=sm.add_constant(X)\n",
        "  modelo=sm.OLS(Y,X)\n",
        "  resultados=modelo.fit(cov_type='HC0')\n",
        "  print(resultados.summary())\n",
        "  return resultados"
      ],
      "execution_count": 80,
      "outputs": []
    },
    {
      "cell_type": "code",
      "metadata": {
        "id": "6OmqjpVW4miA",
        "outputId": "f04611d6-e13e-4dd0-a139-2b3015fb8b1e",
        "colab": {
          "base_uri": "https://localhost:8080/",
          "height": 475
        }
      },
      "source": [
        "regress(['logingreso','aesc'],data=df)"
      ],
      "execution_count": 81,
      "outputs": [
        {
          "output_type": "stream",
          "text": [
            "                            OLS Regression Results                            \n",
            "==============================================================================\n",
            "Dep. Variable:             logingreso   R-squared:                       0.199\n",
            "Model:                            OLS   Adj. R-squared:                  0.199\n",
            "Method:                 Least Squares   F-statistic:                     2573.\n",
            "Date:                Wed, 14 Oct 2020   Prob (F-statistic):               0.00\n",
            "Time:                        02:13:43   Log-Likelihood:                -11674.\n",
            "No. Observations:               10082   AIC:                         2.335e+04\n",
            "Df Residuals:                   10080   BIC:                         2.337e+04\n",
            "Df Model:                           1                                         \n",
            "Covariance Type:                  HC0                                         \n",
            "==============================================================================\n",
            "                 coef    std err          z      P>|z|      [0.025      0.975]\n",
            "------------------------------------------------------------------------------\n",
            "const          8.0118      0.027    298.103      0.000       7.959       8.064\n",
            "aesc           0.1011      0.002     50.723      0.000       0.097       0.105\n",
            "==============================================================================\n",
            "Omnibus:                     1714.578   Durbin-Watson:                   1.798\n",
            "Prob(Omnibus):                  0.000   Jarque-Bera (JB):             4442.590\n",
            "Skew:                          -0.935   Prob(JB):                         0.00\n",
            "Kurtosis:                       5.660   Cond. No.                         45.7\n",
            "==============================================================================\n",
            "\n",
            "Warnings:\n",
            "[1] Standard Errors are heteroscedasticity robust (HC0)\n"
          ],
          "name": "stdout"
        },
        {
          "output_type": "execute_result",
          "data": {
            "text/plain": [
              "<statsmodels.regression.linear_model.RegressionResultsWrapper at 0x7f0d73b3a828>"
            ]
          },
          "metadata": {
            "tags": []
          },
          "execution_count": 81
        }
      ]
    }
  ]
}